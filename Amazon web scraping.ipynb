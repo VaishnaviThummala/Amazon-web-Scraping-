{
 "cells": [
  {
   "cell_type": "code",
   "execution_count": 91,
   "id": "196c4a25",
   "metadata": {
    "scrolled": true
   },
   "outputs": [],
   "source": [
    "#import libraries\n",
    "\n",
    "from bs4 import BeautifulSoup\n",
    "import requests\n",
    "import time\n",
    "import datetime\n",
    "\n",
    "import smtplib\n"
   ]
  },
  {
   "cell_type": "code",
   "execution_count": null,
   "id": "9c485073",
   "metadata": {},
   "outputs": [],
   "source": [
    "#connect to website\n",
    "\n",
    "url='https://www.amazon.com/Drop-Bernadette-Loose-fit-Cropped-Chocolate/dp/B09GW13R2H/ref=sr_1_12?_encoding=UTF8&content-id=amzn1.sym.c4bb7dba-11f3-470a-9b96-c2d1f98f1b6f&pd_rd_r=23ad4b75-b189-4e4c-a269-4c5c71c7964b&pd_rd_w=deYxP&pd_rd_wg=NiP3d&pf_rd_p=c4bb7dba-11f3-470a-9b96-c2d1f98f1b6f&pf_rd_r=KWCTDW6H9EPH5DRWH7GQ&qid=1698853519&s=apparel&sr=1-12'\n",
    "headers= {\"User-Agent\": \"Mozilla/5.0 (Windows NT 10.0; Win64; x64) AppleWebKit/537.36 (KHTML, like Gecko) Chrome/118.0.0.0 Safari/537.36\", \"Accept-Encoding\":\"gzip, deflate\", \"Accept\":\"text/html,application/xhtml+xml,application/xml;q=0.9,*/*;q=0.8\",  \"DNT\":\"1\",\"connection\":\"close\",  \"upgrade-insecure-requests\":\"1\"}\n",
    "page= requests.get(url, headers=headers)\n",
    "soup1= BeautifulSoup(page.content, \"html.parser\")\n",
    "soup2=BeautifulSoup(soup1.prettify(), \"html.parser\")\n",
    "title=soup2.find(id='productTitle').get_text()\n",
    "price=soup2.find('span',{'class':'a-offscreen'}).get_text()\n",
    "print(title)\n",
    "print(price)\n",
    "\n",
    "\n",
    "\n",
    "\n",
    "\n",
    "\n",
    "\n",
    "\n",
    "\n",
    "\n"
   ]
  },
  {
   "cell_type": "code",
   "execution_count": null,
   "id": "6ff532d4",
   "metadata": {},
   "outputs": [],
   "source": [
    "price=price.strip()\n",
    "title=title.strip()\n",
    "\n",
    "print(title)\n",
    "print(price)\n",
    "type(price)"
   ]
  },
  {
   "cell_type": "code",
   "execution_count": null,
   "id": "445793b8",
   "metadata": {},
   "outputs": [],
   "source": [
    "import datetime\n",
    "today=datetime.date.today()\n",
    "print(today)"
   ]
  },
  {
   "cell_type": "code",
   "execution_count": null,
   "id": "fd4e9252",
   "metadata": {},
   "outputs": [],
   "source": [
    "import csv\n",
    "header=['Title','Price', 'Date']\n",
    "data=[title,price, today]\n",
    "\n",
    "with open('Amazonwebscarpeddataset.csv', 'w', newline='', encoding='UTF8') as f:\n",
    "    writer=csv.writer(f)\n",
    "    writer.writerow(header)\n",
    "    writer.writerow(data)\n",
    "    \n"
   ]
  },
  {
   "cell_type": "code",
   "execution_count": null,
   "id": "57e42d9c",
   "metadata": {
    "scrolled": true
   },
   "outputs": [],
   "source": [
    "import pandas as pd\n",
    "df= pd.read_csv(r'C:\\Users\\vaish\\Amazonwebscarpeddataset.csv')\n",
    "print(df)"
   ]
  },
  {
   "cell_type": "code",
   "execution_count": null,
   "id": "bf669add",
   "metadata": {},
   "outputs": [],
   "source": [
    "#Now we are appending data to csv\n",
    "with open('Amazonwebscarpeddataset.csv', 'a+', newline='', encoding='UTF8') as f:\n",
    "    writer=csv.writer(f)\n",
    "    writer.writerow(data)"
   ]
  },
  {
   "cell_type": "code",
   "execution_count": null,
   "id": "5ad3ab3f",
   "metadata": {},
   "outputs": [],
   "source": [
    "def check_price():\n",
    "    url='https://www.amazon.com/Drop-Bernadette-Loose-fit-Cropped-Chocolate/dp/B09GW13R2H/ref=sr_1_12?_encoding=UTF8&content-id=amzn1.sym.c4bb7dba-11f3-470a-9b96-c2d1f98f1b6f&pd_rd_r=23ad4b75-b189-4e4c-a269-4c5c71c7964b&pd_rd_w=deYxP&pd_rd_wg=NiP3d&pf_rd_p=c4bb7dba-11f3-470a-9b96-c2d1f98f1b6f&pf_rd_r=KWCTDW6H9EPH5DRWH7GQ&qid=1698853519&s=apparel&sr=1-12'\n",
    "headers= {\"User-Agent\": \"Mozilla/5.0 (Windows NT 10.0; Win64; x64) AppleWebKit/537.36 (KHTML, like Gecko) Chrome/118.0.0.0 Safari/537.36\", \"Accept-Encoding\":\"gzip, deflate\", \"Accept\":\"text/html,application/xhtml+xml,application/xml;q=0.9,*/*;q=0.8\",  \"DNT\":\"1\",\"connection\":\"close\",  \"upgrade-insecure-requests\":\"1\"}\n",
    "page= requests.get(url, headers=headers)\n",
    "soup1= BeautifulSoup(page.content, \"html.parser\")\n",
    "soup2=BeautifulSoup(soup1.prettify(), \"html.parser\")\n",
    "title=soup2.find(id='productTitle').get_text()\n",
    "price=soup2.find('span',{'class':'a-offscreen'}).get_text()\n",
    "print(title)\n",
    "print(price)\n",
    "price=price.strip()\n",
    "title=title.strip()\n",
    "import datetime\n",
    "today=datetime.date.today()\n",
    "import csv\n",
    "header=['Title','Price', 'Date']\n",
    "data=[title,price, today]\n",
    "with open('Amazonwebscarpeddataset.csv', 'a+', newline='', encoding='UTF8') as f:\n",
    "    writer=csv.writer(f)\n",
    "    writer.writerow(data)"
   ]
  },
  {
   "cell_type": "code",
   "execution_count": null,
   "id": "d9b9337d",
   "metadata": {},
   "outputs": [],
   "source": [
    "while(True):\n",
    "    check_price()\n",
    "    time.sleep(5)"
   ]
  },
  {
   "cell_type": "code",
   "execution_count": 94,
   "id": "5781282f",
   "metadata": {},
   "outputs": [
    {
     "name": "stdout",
     "output_type": "stream",
     "text": [
      "  The Drop Women's Bernadette Pull-On Loose-Fit Cropped Sweater Pant  $44.90  \\\n",
      "0  The Drop Women's Bernadette Pull-On Loose-Fit ...                  $44.90   \n",
      "1  The Drop Women's Bernadette Pull-On Loose-Fit ...                  $44.90   \n",
      "\n",
      "   2023-11-01  \n",
      "0  2023-11-01  \n",
      "1  2023-11-01  \n"
     ]
    }
   ],
   "source": [
    "import pandas as pd\n",
    "df= pd.read_csv(r'C:\\Users\\vaish\\Amazonwebscarpeddataset.csv')\n",
    "print(df)"
   ]
  },
  {
   "cell_type": "code",
   "execution_count": 95,
   "id": "1e5aa2a7",
   "metadata": {},
   "outputs": [],
   "source": []
  },
  {
   "cell_type": "code",
   "execution_count": null,
   "id": "17883d77",
   "metadata": {},
   "outputs": [],
   "source": []
  },
  {
   "cell_type": "code",
   "execution_count": null,
   "id": "2e2d63ae",
   "metadata": {},
   "outputs": [],
   "source": []
  }
 ],
 "metadata": {
  "kernelspec": {
   "display_name": "Python 3 (ipykernel)",
   "language": "python",
   "name": "python3"
  },
  "language_info": {
   "codemirror_mode": {
    "name": "ipython",
    "version": 3
   },
   "file_extension": ".py",
   "mimetype": "text/x-python",
   "name": "python",
   "nbconvert_exporter": "python",
   "pygments_lexer": "ipython3",
   "version": "3.11.5"
  }
 },
 "nbformat": 4,
 "nbformat_minor": 5
}
